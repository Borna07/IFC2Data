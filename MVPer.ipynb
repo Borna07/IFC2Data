{
 "cells": [
  {
   "cell_type": "code",
   "execution_count": 1,
   "metadata": {},
   "outputs": [],
   "source": [
    "from uploads.Functions import all_divide, parser\n",
    "\n"
   ]
  },
  {
   "cell_type": "code",
   "execution_count": null,
   "metadata": {},
   "outputs": [],
   "source": [
    "path = r'D:\\Borna\\06 Python\\07 IFC\\00 Modelle\\00 Svi mali\\HG_TWPL_TW_013.ifc'\n",
    "\n",
    "df = parser(path)\n",
    "\n"
   ]
  },
  {
   "cell_type": "code",
   "execution_count": 26,
   "metadata": {},
   "outputs": [],
   "source": [
    "import pandas as pd\n",
    "\n",
    "def unique(df):\n",
    "    names = []\n",
    "    data = []\n",
    "    for column in df.columns:\n",
    "        name = column\n",
    "        value = list(df[name].unique())\n",
    "        names.append(name)\n",
    "        data.append(value)\n",
    "\n",
    "    df2 = pd.DataFrame(data, names)\n",
    "    df2 = df2.transpose()\n",
    "\n",
    "    return(df2)"
   ]
  },
  {
   "cell_type": "code",
   "execution_count": 27,
   "metadata": {},
   "outputs": [],
   "source": [
    "dfs = dict(tuple(df.groupby('IfcType')))\n",
    "for key in dfs.keys():\n",
    "    unique(dfs[key])\n",
    "    \n",
    "\n"
   ]
  },
  {
   "cell_type": "code",
   "execution_count": 21,
   "metadata": {},
   "outputs": [],
   "source": [
    "worterbuch = {}\n",
    "for item in df.IfcType.unique():\n",
    "    DF = df[df['IfcType'].str.contains(item, na=False)]\n",
    "    DF = DF.dropna(axis='columns', how='all')\n",
    "    worterbuch[item] = DF"
   ]
  }
 ],
 "metadata": {
  "interpreter": {
   "hash": "62cb5b7cb11fbfe27c842bb840588305e1501d5b80df66c85e7ddf5d45e59da4"
  },
  "kernelspec": {
   "display_name": "Python 3.8.0 32-bit ('test_D': venv)",
   "name": "python3"
  },
  "language_info": {
   "codemirror_mode": {
    "name": "ipython",
    "version": 3
   },
   "file_extension": ".py",
   "mimetype": "text/x-python",
   "name": "python",
   "nbconvert_exporter": "python",
   "pygments_lexer": "ipython3",
   "version": "3.8.0"
  },
  "orig_nbformat": 4
 },
 "nbformat": 4,
 "nbformat_minor": 2
}
